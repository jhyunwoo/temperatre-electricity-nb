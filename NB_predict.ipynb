{
 "cells": [
  {
   "cell_type": "code",
   "execution_count": 1,
   "metadata": {},
   "outputs": [],
   "source": [
    "# 데이터를 쉽게 다루기 위해 Pandas 라이브러리를 불러옵니다.\n",
    "import pandas as pd\n",
    "\n",
    "# CSV 파일을 불러옵니다.\n",
    "data = pd.read_csv('data/temperature_electricity.csv', encoding='UTF8')\n",
    "\n",
    "# 숫자가 아닌 데이터를 삭제합니다.\n",
    "data = data.dropna()"
   ]
  },
  {
   "cell_type": "code",
   "execution_count": 2,
   "metadata": {},
   "outputs": [
    {
     "data": {
      "text/html": [
       "<div>\n",
       "<style scoped>\n",
       "    .dataframe tbody tr th:only-of-type {\n",
       "        vertical-align: middle;\n",
       "    }\n",
       "\n",
       "    .dataframe tbody tr th {\n",
       "        vertical-align: top;\n",
       "    }\n",
       "\n",
       "    .dataframe thead th {\n",
       "        text-align: right;\n",
       "    }\n",
       "</style>\n",
       "<table border=\"1\" class=\"dataframe\">\n",
       "  <thead>\n",
       "    <tr style=\"text-align: right;\">\n",
       "      <th></th>\n",
       "      <th>Date</th>\n",
       "      <th>Location</th>\n",
       "      <th>Average</th>\n",
       "      <th>Lowest</th>\n",
       "      <th>Highest</th>\n",
       "      <th>Capacity(ins)</th>\n",
       "      <th>Capacity(Power)</th>\n",
       "      <th>Max Power</th>\n",
       "      <th>Power Reserve</th>\n",
       "      <th>Power Reserve Ratio(%)</th>\n",
       "      <th>Max Power Time</th>\n",
       "    </tr>\n",
       "  </thead>\n",
       "  <tbody>\n",
       "    <tr>\n",
       "      <th>0</th>\n",
       "      <td>2013-06-13</td>\n",
       "      <td>108</td>\n",
       "      <td>23.0</td>\n",
       "      <td>18.8</td>\n",
       "      <td>27.5</td>\n",
       "      <td>83749</td>\n",
       "      <td>71175</td>\n",
       "      <td>66272</td>\n",
       "      <td>4903</td>\n",
       "      <td>7.4</td>\n",
       "      <td>2013/06/13(15:00)</td>\n",
       "    </tr>\n",
       "    <tr>\n",
       "      <th>1</th>\n",
       "      <td>2013-06-14</td>\n",
       "      <td>108</td>\n",
       "      <td>24.6</td>\n",
       "      <td>20.9</td>\n",
       "      <td>29.7</td>\n",
       "      <td>83749</td>\n",
       "      <td>71209</td>\n",
       "      <td>66475</td>\n",
       "      <td>4734</td>\n",
       "      <td>7.1</td>\n",
       "      <td>2013/06/14(15:00)</td>\n",
       "    </tr>\n",
       "    <tr>\n",
       "      <th>2</th>\n",
       "      <td>2013-06-15</td>\n",
       "      <td>108</td>\n",
       "      <td>24.6</td>\n",
       "      <td>21.3</td>\n",
       "      <td>29.1</td>\n",
       "      <td>83749</td>\n",
       "      <td>67663</td>\n",
       "      <td>60427</td>\n",
       "      <td>7236</td>\n",
       "      <td>12.0</td>\n",
       "      <td>2013/06/15(15:00)</td>\n",
       "    </tr>\n",
       "    <tr>\n",
       "      <th>3</th>\n",
       "      <td>2013-06-16</td>\n",
       "      <td>108</td>\n",
       "      <td>22.5</td>\n",
       "      <td>19.8</td>\n",
       "      <td>27.5</td>\n",
       "      <td>83749</td>\n",
       "      <td>66461</td>\n",
       "      <td>53717</td>\n",
       "      <td>12744</td>\n",
       "      <td>23.7</td>\n",
       "      <td>2013/06/16(21:00)</td>\n",
       "    </tr>\n",
       "    <tr>\n",
       "      <th>4</th>\n",
       "      <td>2013-06-17</td>\n",
       "      <td>108</td>\n",
       "      <td>22.3</td>\n",
       "      <td>19.9</td>\n",
       "      <td>25.8</td>\n",
       "      <td>83749</td>\n",
       "      <td>70892</td>\n",
       "      <td>66566</td>\n",
       "      <td>4326</td>\n",
       "      <td>6.5</td>\n",
       "      <td>2013/06/17(15:00)</td>\n",
       "    </tr>\n",
       "    <tr>\n",
       "      <th>...</th>\n",
       "      <td>...</td>\n",
       "      <td>...</td>\n",
       "      <td>...</td>\n",
       "      <td>...</td>\n",
       "      <td>...</td>\n",
       "      <td>...</td>\n",
       "      <td>...</td>\n",
       "      <td>...</td>\n",
       "      <td>...</td>\n",
       "      <td>...</td>\n",
       "      <td>...</td>\n",
       "    </tr>\n",
       "    <tr>\n",
       "      <th>3648</th>\n",
       "      <td>2023-06-09</td>\n",
       "      <td>108</td>\n",
       "      <td>23.3</td>\n",
       "      <td>18.3</td>\n",
       "      <td>28.4</td>\n",
       "      <td>140758</td>\n",
       "      <td>83619</td>\n",
       "      <td>69747</td>\n",
       "      <td>13872</td>\n",
       "      <td>19.9</td>\n",
       "      <td>2023/06/09(19:00)</td>\n",
       "    </tr>\n",
       "    <tr>\n",
       "      <th>3649</th>\n",
       "      <td>2023-06-10</td>\n",
       "      <td>108</td>\n",
       "      <td>23.2</td>\n",
       "      <td>19.6</td>\n",
       "      <td>28.5</td>\n",
       "      <td>140758</td>\n",
       "      <td>82997</td>\n",
       "      <td>61953</td>\n",
       "      <td>21044</td>\n",
       "      <td>34.0</td>\n",
       "      <td>2023/06/10(21:00)</td>\n",
       "    </tr>\n",
       "    <tr>\n",
       "      <th>3650</th>\n",
       "      <td>2023-06-11</td>\n",
       "      <td>108</td>\n",
       "      <td>22.1</td>\n",
       "      <td>17.9</td>\n",
       "      <td>27.3</td>\n",
       "      <td>140758</td>\n",
       "      <td>82473</td>\n",
       "      <td>62339</td>\n",
       "      <td>20134</td>\n",
       "      <td>32.3</td>\n",
       "      <td>2023/06/11(21:00)</td>\n",
       "    </tr>\n",
       "    <tr>\n",
       "      <th>3651</th>\n",
       "      <td>2023-06-12</td>\n",
       "      <td>108</td>\n",
       "      <td>22.2</td>\n",
       "      <td>18.4</td>\n",
       "      <td>27.5</td>\n",
       "      <td>140758</td>\n",
       "      <td>87631</td>\n",
       "      <td>71512</td>\n",
       "      <td>16119</td>\n",
       "      <td>22.5</td>\n",
       "      <td>2023/06/12(18:00)</td>\n",
       "    </tr>\n",
       "    <tr>\n",
       "      <th>3652</th>\n",
       "      <td>2023-06-13</td>\n",
       "      <td>108</td>\n",
       "      <td>22.0</td>\n",
       "      <td>19.2</td>\n",
       "      <td>26.0</td>\n",
       "      <td>140758</td>\n",
       "      <td>86678</td>\n",
       "      <td>72258</td>\n",
       "      <td>14420</td>\n",
       "      <td>20.0</td>\n",
       "      <td>2023/06/13(19:00)</td>\n",
       "    </tr>\n",
       "  </tbody>\n",
       "</table>\n",
       "<p>3651 rows × 11 columns</p>\n",
       "</div>"
      ],
      "text/plain": [
       "            Date  Location  Average  Lowest  Highest  Capacity(ins)  \\\n",
       "0     2013-06-13       108     23.0    18.8     27.5          83749   \n",
       "1     2013-06-14       108     24.6    20.9     29.7          83749   \n",
       "2     2013-06-15       108     24.6    21.3     29.1          83749   \n",
       "3     2013-06-16       108     22.5    19.8     27.5          83749   \n",
       "4     2013-06-17       108     22.3    19.9     25.8          83749   \n",
       "...          ...       ...      ...     ...      ...            ...   \n",
       "3648  2023-06-09       108     23.3    18.3     28.4         140758   \n",
       "3649  2023-06-10       108     23.2    19.6     28.5         140758   \n",
       "3650  2023-06-11       108     22.1    17.9     27.3         140758   \n",
       "3651  2023-06-12       108     22.2    18.4     27.5         140758   \n",
       "3652  2023-06-13       108     22.0    19.2     26.0         140758   \n",
       "\n",
       "      Capacity(Power)  Max Power  Power Reserve  Power Reserve Ratio(%)  \\\n",
       "0               71175      66272           4903                     7.4   \n",
       "1               71209      66475           4734                     7.1   \n",
       "2               67663      60427           7236                    12.0   \n",
       "3               66461      53717          12744                    23.7   \n",
       "4               70892      66566           4326                     6.5   \n",
       "...               ...        ...            ...                     ...   \n",
       "3648            83619      69747          13872                    19.9   \n",
       "3649            82997      61953          21044                    34.0   \n",
       "3650            82473      62339          20134                    32.3   \n",
       "3651            87631      71512          16119                    22.5   \n",
       "3652            86678      72258          14420                    20.0   \n",
       "\n",
       "         Max Power Time  \n",
       "0     2013/06/13(15:00)  \n",
       "1     2013/06/14(15:00)  \n",
       "2     2013/06/15(15:00)  \n",
       "3     2013/06/16(21:00)  \n",
       "4     2013/06/17(15:00)  \n",
       "...                 ...  \n",
       "3648  2023/06/09(19:00)  \n",
       "3649  2023/06/10(21:00)  \n",
       "3650  2023/06/11(21:00)  \n",
       "3651  2023/06/12(18:00)  \n",
       "3652  2023/06/13(19:00)  \n",
       "\n",
       "[3651 rows x 11 columns]"
      ]
     },
     "execution_count": 2,
     "metadata": {},
     "output_type": "execute_result"
    }
   ],
   "source": [
    "# 데이터가 어떤 구성으로 되어 있는지 확인합니다.\n",
    "data"
   ]
  },
  {
   "cell_type": "code",
   "execution_count": 3,
   "metadata": {},
   "outputs": [],
   "source": [
    "# 평균 기온, 최고 기온, 최저 기온 데이터를 불러옵니다.\n",
    "temperature =data.loc[:, [\"Average\", \"Highest\", \"Lowest\"]].apply(pd.to_numeric)\n",
    "\n",
    "# 전력 예비율 데이터를 불러옵니다.\n",
    "electricity_data = data[\"Power Reserve Ratio(%)\"]"
   ]
  },
  {
   "cell_type": "code",
   "execution_count": 4,
   "metadata": {},
   "outputs": [],
   "source": [
    "# 전력 예비율 데이터를 10 크기의 구간 별로 나누어줍니다.\n",
    "electricity = {\"class\":[]}\n",
    "\n",
    "for i in electricity_data:\n",
    "    if i < 10:\n",
    "        electricity[\"class\"].append(0)\n",
    "    elif i < 20:\n",
    "        electricity[\"class\"].append(1)\n",
    "    elif i < 30:\n",
    "        electricity[\"class\"].append(2)\n",
    "    elif i < 40:\n",
    "        electricity[\"class\"].append(3)\n",
    "    elif i < 50:\n",
    "        electricity[\"class\"].append(4)\n",
    "    elif i < 60:\n",
    "        electricity[\"class\"].append(5)\n",
    "    elif i < 70:\n",
    "        electricity[\"class\"].append(6)\n",
    "    elif i < 80:\n",
    "        electricity[\"class\"].append(7)\n",
    "    elif i < 90:\n",
    "        electricity[\"class\"].append(8)\n",
    "    else:\n",
    "        electricity[\"class\"].append(9)\n",
    "\n",
    "# Dictionary 형태의 데이터를 DataFrame 형태로 변환해줍니다.\n",
    "electricity = pd.DataFrame(electricity)"
   ]
  },
  {
   "cell_type": "code",
   "execution_count": 5,
   "metadata": {},
   "outputs": [
    {
     "name": "stdout",
     "output_type": "stream",
     "text": [
      "(3651, 3) (3651, 1)\n"
     ]
    }
   ],
   "source": [
    "# 학습할 데이터의 형태를 확인합니다.\n",
    "print(temperature.shape, electricity.shape)"
   ]
  },
  {
   "cell_type": "code",
   "execution_count": 7,
   "metadata": {},
   "outputs": [],
   "source": [
    "# 데이터를 훈력 데이터와 테스트 데이터로 나누어줍니다.\n",
    "from sklearn.model_selection import train_test_split \n",
    "\n",
    "X_train, X_test, y_train, y_test = train_test_split(temperature, electricity, test_size=0.3)\n",
    "y_train = y_train.values.ravel()\n",
    "y_test = y_test.values.ravel()"
   ]
  },
  {
   "cell_type": "code",
   "execution_count": 8,
   "metadata": {},
   "outputs": [
    {
     "name": "stdout",
     "output_type": "stream",
     "text": [
      "(2555, 3) (2555,)\n",
      "(1096, 3) (1096,)\n"
     ]
    }
   ],
   "source": [
    "# 학습할 데이터의 형태를 확인합니다.\n",
    "print(X_train.shape, y_train.shape)\n",
    "print(X_test.shape, y_test.shape)"
   ]
  },
  {
   "cell_type": "code",
   "execution_count": 9,
   "metadata": {},
   "outputs": [],
   "source": [
    "# SciKit-Learn 라이브러리에서 Gaussian Naive Bayes 모델을 불러옵니다.\n",
    "from sklearn.naive_bayes import GaussianNB\n",
    "model = GaussianNB()\n",
    "\n",
    "# 모델을 학습시킵니다.\n",
    "model.fit(X_train, y_train)\n",
    "\n",
    "# 정확도를 측정합니다.\n",
    "y_pred = model.predict(X_test)"
   ]
  },
  {
   "cell_type": "code",
   "execution_count": 10,
   "metadata": {},
   "outputs": [
    {
     "name": "stdout",
     "output_type": "stream",
     "text": [
      "Accuracy: 0.4041970802919708\n"
     ]
    }
   ],
   "source": [
    "# Scikit-learn 라이브러리의 metrics를 사용하여 정확도를 계산합니다.\n",
    "from sklearn import metrics\n",
    "\n",
    "print(\"Accuracy:\",metrics.accuracy_score(y_test, y_pred))"
   ]
  },
  {
   "cell_type": "code",
   "execution_count": 11,
   "metadata": {},
   "outputs": [],
   "source": [
    "# 최고 정확도를 저장할 변수를 선언합니다.\n",
    "higest_accuracy = 0\n",
    "\n",
    "# 1000번 반복하여 가장 높은 정확도를 구합니다.\n",
    "for i in range(1000):\n",
    "    data = pd.read_csv('data/temperature_electricity.csv', encoding='UTF8')\n",
    "    data = data.dropna()\n",
    "    temperature =data.loc[:, [\"Average\", \"Highest\", \"Lowest\"]].apply(pd.to_numeric)\n",
    "    electricity_data = data[\"Power Reserve Ratio(%)\"]\n",
    "    electricity = {\"class\":[]}\n",
    "\n",
    "    for j in electricity_data:\n",
    "        if j < 10:\n",
    "            electricity[\"class\"].append(0)\n",
    "        elif j < 20:\n",
    "            electricity[\"class\"].append(1)\n",
    "        else:\n",
    "            electricity[\"class\"].append(2)\n",
    "\n",
    "    electricity = pd.DataFrame(electricity)\n",
    "    X_train, X_test, y_train, y_test = train_test_split(temperature, electricity, test_size=0.3)\n",
    "    y_train = y_train.values.ravel()\n",
    "    y_test = y_test.values.ravel()\n",
    "    model = GaussianNB()\n",
    "    model.fit(X_train, y_train)\n",
    "    y_pred = model.predict(X_test)\n",
    "    if higest_accuracy < metrics.accuracy_score(y_test, y_pred):\n",
    "        higest_accuracy = metrics.accuracy_score(y_test, y_pred)"
   ]
  },
  {
   "cell_type": "code",
   "execution_count": 12,
   "metadata": {},
   "outputs": [
    {
     "name": "stdout",
     "output_type": "stream",
     "text": [
      "Higest Accuracy : 73.44890510948905 %\n"
     ]
    }
   ],
   "source": [
    "# 최고 정확도를 출력합니다.\n",
    "print(\"Higest Accuracy :\", higest_accuracy*100, \"%\")"
   ]
  },
  {
   "cell_type": "code",
   "execution_count": 13,
   "metadata": {},
   "outputs": [
    {
     "name": "stdout",
     "output_type": "stream",
     "text": [
      "Class 2\n"
     ]
    }
   ],
   "source": [
    "# 학습한 알고리즘을 사용하여 임의의 기온 데이터에 따른 전력 예비율을 예측합니다.\n",
    "predict_data = {\"Average\":[25], \"Highest\":[30], \"Lowest\":[23]}\n",
    "predict_data = pd.DataFrame(predict_data)\n",
    "print(\"Class\", model.predict(predict_data)[0])\n",
    "# Class 2로 예측하여 평균 25도, 최고 30도, 최저 23도일 때 전력 예비율이 10%에서 20% 사이에 있을 것임을 예측하였습니다."
   ]
  },
  {
   "cell_type": "code",
   "execution_count": null,
   "metadata": {},
   "outputs": [],
   "source": []
  }
 ],
 "metadata": {
  "kernelspec": {
   "display_name": "collatz",
   "language": "python",
   "name": "python3"
  },
  "language_info": {
   "codemirror_mode": {
    "name": "ipython",
    "version": 3
   },
   "file_extension": ".py",
   "mimetype": "text/x-python",
   "name": "python",
   "nbconvert_exporter": "python",
   "pygments_lexer": "ipython3",
   "version": "3.11.4"
  },
  "orig_nbformat": 4
 },
 "nbformat": 4,
 "nbformat_minor": 2
}
