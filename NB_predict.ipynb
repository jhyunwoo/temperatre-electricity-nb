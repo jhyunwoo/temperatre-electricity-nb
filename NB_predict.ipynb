{
 "cells": [
  {
   "cell_type": "code",
   "execution_count": 44,
   "metadata": {},
   "outputs": [],
   "source": [
    "import pandas as pd\n",
    "data = pd.read_csv('data/temperature_electricity.csv', encoding='UTF8')\n",
    "data = data.dropna()"
   ]
  },
  {
   "cell_type": "code",
   "execution_count": 45,
   "metadata": {},
   "outputs": [
    {
     "data": {
      "text/plain": [
       "Index(['Date', 'Location', 'Average', 'Lowest', 'Heigest', 'Capacity(ins)',\n",
       "       'Capacity(Power)', 'Max Power', 'Power Reserve',\n",
       "       'Power Reserve Ratio(%)', 'Max Power Time'],\n",
       "      dtype='object')"
      ]
     },
     "execution_count": 45,
     "metadata": {},
     "output_type": "execute_result"
    }
   ],
   "source": [
    "dataFeatures = data.columns\n",
    "dataFeatures"
   ]
  },
  {
   "cell_type": "code",
   "execution_count": 46,
   "metadata": {},
   "outputs": [],
   "source": [
    "temperature =data.loc[:, [\"Average\", \"Heigest\", \"Lowest\"]].apply(pd.to_numeric)\n",
    "electricity_data = data[\"Power Reserve Ratio(%)\"]"
   ]
  },
  {
   "cell_type": "code",
   "execution_count": 47,
   "metadata": {},
   "outputs": [],
   "source": [
    "electricity = {\"class\":[]}\n",
    "\n",
    "for i in electricity_data:\n",
    "    if i < 10:\n",
    "        electricity[\"class\"].append(0)\n",
    "    elif i < 20:\n",
    "        electricity[\"class\"].append(1)\n",
    "    elif i < 30:\n",
    "        electricity[\"class\"].append(2)\n",
    "    elif i < 40:\n",
    "        electricity[\"class\"].append(3)\n",
    "    elif i < 50:\n",
    "        electricity[\"class\"].append(4)\n",
    "    elif i < 60:\n",
    "        electricity[\"class\"].append(5)\n",
    "    elif i < 70:\n",
    "        electricity[\"class\"].append(6)\n",
    "    elif i < 80:\n",
    "        electricity[\"class\"].append(7)\n",
    "    elif i < 90:\n",
    "        electricity[\"class\"].append(8)\n",
    "    else:\n",
    "        electricity[\"class\"].append(9)\n",
    "\n",
    "electricity = pd.DataFrame(electricity)"
   ]
  },
  {
   "cell_type": "code",
   "execution_count": 48,
   "metadata": {},
   "outputs": [
    {
     "name": "stdout",
     "output_type": "stream",
     "text": [
      "(3651, 3) (3651, 1)\n"
     ]
    }
   ],
   "source": [
    "print(temperature.shape, electricity.shape)"
   ]
  },
  {
   "cell_type": "code",
   "execution_count": 49,
   "metadata": {},
   "outputs": [],
   "source": [
    "from sklearn.model_selection import train_test_split \n",
    "\n",
    "X_train, X_test, y_train, y_test = train_test_split(temperature, electricity, test_size=0.3)\n",
    "y_train = y_train.values.ravel()\n",
    "y_test = y_test.values.ravel()"
   ]
  },
  {
   "cell_type": "code",
   "execution_count": 50,
   "metadata": {},
   "outputs": [
    {
     "name": "stdout",
     "output_type": "stream",
     "text": [
      "(2555, 3) (2555,)\n",
      "(1096, 3) (1096,)\n"
     ]
    }
   ],
   "source": [
    "print(X_train.shape, y_train.shape)\n",
    "print(X_test.shape, y_test.shape)"
   ]
  },
  {
   "cell_type": "code",
   "execution_count": 51,
   "metadata": {},
   "outputs": [],
   "source": [
    "from sklearn.naive_bayes import GaussianNB\n",
    "model = GaussianNB()\n",
    "model.fit(X_train, y_train)\n",
    "y_pred = model.predict(X_test)"
   ]
  },
  {
   "cell_type": "code",
   "execution_count": 52,
   "metadata": {},
   "outputs": [
    {
     "name": "stdout",
     "output_type": "stream",
     "text": [
      "(1096,)\n",
      "[2 2 2 ... 2 2 1]\n"
     ]
    }
   ],
   "source": [
    "print(y_pred.shape)\n",
    "print(y_pred)"
   ]
  },
  {
   "cell_type": "code",
   "execution_count": 53,
   "metadata": {},
   "outputs": [
    {
     "name": "stdout",
     "output_type": "stream",
     "text": [
      "Accuracy: 0.3978102189781022\n"
     ]
    }
   ],
   "source": [
    "from sklearn import metrics\n",
    "\n",
    "print(\"Accuracy:\",metrics.accuracy_score(y_test, y_pred))"
   ]
  },
  {
   "cell_type": "code",
   "execution_count": 54,
   "metadata": {},
   "outputs": [],
   "source": [
    "higest_accuracy = 0\n",
    "\n",
    "for i in range(1000):\n",
    "    data = pd.read_csv('data/temperature_electricity.csv', encoding='UTF8')\n",
    "    data = data.dropna()\n",
    "    temperature =data.loc[:, [\"Average\", \"Heigest\", \"Lowest\"]].apply(pd.to_numeric)\n",
    "    electricity_data = data[\"Power Reserve Ratio(%)\"]\n",
    "    electricity = {\"class\":[]}\n",
    "\n",
    "    for j in electricity_data:\n",
    "        if j < 10:\n",
    "            electricity[\"class\"].append(0)\n",
    "        elif j < 20:\n",
    "            electricity[\"class\"].append(1)\n",
    "        else:\n",
    "            electricity[\"class\"].append(2)\n",
    "\n",
    "    electricity = pd.DataFrame(electricity)\n",
    "    X_train, X_test, y_train, y_test = train_test_split(temperature, electricity, test_size=0.3)\n",
    "    y_train = y_train.values.ravel()\n",
    "    y_test = y_test.values.ravel()\n",
    "    model = GaussianNB()\n",
    "    model.fit(X_train, y_train)\n",
    "    y_pred = model.predict(X_test)\n",
    "    if higest_accuracy < metrics.accuracy_score(y_test, y_pred):\n",
    "        higest_accuracy = metrics.accuracy_score(y_test, y_pred)"
   ]
  },
  {
   "cell_type": "code",
   "execution_count": 55,
   "metadata": {},
   "outputs": [
    {
     "name": "stdout",
     "output_type": "stream",
     "text": [
      "0.7381386861313869\n"
     ]
    }
   ],
   "source": [
    "print(higest_accuracy)"
   ]
  },
  {
   "cell_type": "code",
   "execution_count": 58,
   "metadata": {},
   "outputs": [
    {
     "name": "stdout",
     "output_type": "stream",
     "text": [
      "[2]\n"
     ]
    }
   ],
   "source": [
    "predict_data = {\"Average\":[25], \"Heigest\":[30], \"Lowest\":[23]}\n",
    "predict_data = pd.DataFrame(predict_data)\n",
    "print(model.predict(predict_data))"
   ]
  },
  {
   "cell_type": "code",
   "execution_count": null,
   "metadata": {},
   "outputs": [],
   "source": []
  }
 ],
 "metadata": {
  "kernelspec": {
   "display_name": "collatz",
   "language": "python",
   "name": "python3"
  },
  "language_info": {
   "codemirror_mode": {
    "name": "ipython",
    "version": 3
   },
   "file_extension": ".py",
   "mimetype": "text/x-python",
   "name": "python",
   "nbconvert_exporter": "python",
   "pygments_lexer": "ipython3",
   "version": "3.11.3"
  },
  "orig_nbformat": 4
 },
 "nbformat": 4,
 "nbformat_minor": 2
}
